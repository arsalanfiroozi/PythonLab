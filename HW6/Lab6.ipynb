{
 "cells": [
  {
   "cell_type": "markdown",
   "id": "4100f503",
   "metadata": {},
   "source": [
    "## OOP"
   ]
  },
  {
   "cell_type": "code",
   "execution_count": 15,
   "id": "ef191aa8",
   "metadata": {},
   "outputs": [],
   "source": [
    "class Set:\n",
    "    def __init__(self):\n",
    "        self.mylist = []\n",
    "    def add(self, x):\n",
    "        flag = 0\n",
    "        for i in range(len(self.mylist)):\n",
    "            if self.mylist[i]==x:\n",
    "                flag = 1\n",
    "                break\n",
    "        if flag == 0:\n",
    "            self.mylist.append(x)\n",
    "    def delete(self, x):\n",
    "        flag = 0\n",
    "        for i in range(len(self.mylist)):\n",
    "            if self.mylist[i]==x:\n",
    "                self.mylist.remove(x)\n",
    "                break\n",
    "    def __or__(self,b):\n",
    "        z = Set()\n",
    "        for i in range(len(self.mylist)):\n",
    "            z.add(self.mylist[i])\n",
    "        for i in range(len(b.mylist)):\n",
    "            z.add(b.mylist[i])\n",
    "            return z\n",
    "    def __and__(self,b):\n",
    "        z = Set()\n",
    "        for i in range(len(self.mylist)):\n",
    "            for j in range(len(b.mylist)):\n",
    "                if(self.mylist[i]==b.mylist[j]):\n",
    "                    z.add(b.mylist[j])\n",
    "        return z\n",
    "    def __eq__(self,b):\n",
    "        out = 1\n",
    "        self.mylist.sort()\n",
    "        b.mylist.sort()\n",
    "        if(len(self.mylist)==len(b.mylist)):\n",
    "            for i in range(len(self.mylist)):\n",
    "                if(self.mylist[i]!=b.mylist[i]):\n",
    "                    out = 0\n",
    "                else:\n",
    "                    out = 0\n",
    "        return out"
   ]
  },
  {
   "cell_type": "code",
   "execution_count": 16,
   "id": "f0fe4ae8",
   "metadata": {},
   "outputs": [
    {
     "name": "stdout",
     "output_type": "stream",
     "text": [
      "a: []\n"
     ]
    }
   ],
   "source": [
    "a = Set()\n",
    "print('a:', a.mylist)"
   ]
  },
  {
   "cell_type": "code",
   "execution_count": 17,
   "id": "30013277",
   "metadata": {},
   "outputs": [],
   "source": [
    "a.add(1) \n",
    "a.add(3)\n",
    "a.add(5)\n",
    "a.add(7)\n",
    "a.add(9)\n",
    "a.add(5)"
   ]
  },
  {
   "cell_type": "code",
   "execution_count": 18,
   "id": "5be20cdf",
   "metadata": {},
   "outputs": [
    {
     "name": "stdout",
     "output_type": "stream",
     "text": [
      "b: [1, 2, 3, 4, 5, 6]\n"
     ]
    }
   ],
   "source": [
    "b = Set()\n",
    "b.add(1)\n",
    "b.add(2)\n",
    "b.add(3)\n",
    "b.add(4)\n",
    "b.add(5)\n",
    "b.add(6)\n",
    "print('b:', b.mylist)\n",
    "b.delete(6)"
   ]
  },
  {
   "cell_type": "code",
   "execution_count": 19,
   "id": "1b950c99",
   "metadata": {},
   "outputs": [
    {
     "name": "stdout",
     "output_type": "stream",
     "text": [
      "b: [1, 2, 3, 4, 5]\n",
      "c: [1, 3, 5, 7, 9]\n",
      "d: [1, 3, 5]\n"
     ]
    }
   ],
   "source": [
    "print('b:', b.mylist)\n",
    "c=a|b\n",
    "print('c:', c.mylist)\n",
    "d=a&b\n",
    "print('d:', d.mylist)"
   ]
  },
  {
   "cell_type": "code",
   "execution_count": 20,
   "id": "781bddca",
   "metadata": {},
   "outputs": [
    {
     "name": "stdout",
     "output_type": "stream",
     "text": [
      "a==b ? : 1\n",
      "a==b ? : 1\n",
      "a==b ? : 0\n"
     ]
    }
   ],
   "source": [
    "a = Set()\n",
    "b = Set()\n",
    "print('a==b ? :', a == b)\n",
    "a = Set()\n",
    "a.add(5)\n",
    "b = Set()\n",
    "print('a==b ? :', a == b)\n",
    "a = Set()\n",
    "a.add(5)\n",
    "b = Set()\n",
    "b.add(5)\n",
    "print('a==b ? :', a == b)"
   ]
  },
  {
   "cell_type": "markdown",
   "id": "fc04ec8d",
   "metadata": {},
   "source": [
    "## Pandas"
   ]
  },
  {
   "cell_type": "code",
   "execution_count": 31,
   "id": "55eee8b0",
   "metadata": {},
   "outputs": [],
   "source": [
    "import pandas as pd\n",
    "import numpy as np\n",
    "indexes = [1, 2, 3, 4, 5, 6]\n",
    "columns = ['A', 'B', 'C', 'D']\n",
    "df = pd.DataFrame(np.random.normal(0,1,(6,4)),indexes,columns)"
   ]
  },
  {
   "cell_type": "markdown",
   "id": "eaab9f26",
   "metadata": {},
   "source": [
    "### 2.1"
   ]
  },
  {
   "cell_type": "code",
   "execution_count": 32,
   "id": "86b55b92",
   "metadata": {},
   "outputs": [
    {
     "name": "stdout",
     "output_type": "stream",
     "text": [
      "datafram:\n",
      "           A         B         C         D\n",
      "1  1.859953 -0.133107  0.522401 -0.788132\n",
      "2 -1.088803 -0.245294  0.775723  0.109302\n",
      "3  1.109579 -0.755274  1.389204 -1.537559\n",
      "4 -1.250124 -1.834937 -0.890272  1.324412\n",
      "5 -0.884601 -0.286009  0.757115  2.094850\n",
      "6  0.278862 -0.977012  0.568057  0.137763\n",
      "\n",
      "head:\n",
      "           A         B         C         D\n",
      "1  1.859953 -0.133107  0.522401 -0.788132\n",
      "2 -1.088803 -0.245294  0.775723  0.109302\n",
      "\n",
      "tail:\n",
      "           A         B         C         D\n",
      "5 -0.884601 -0.286009  0.757115  2.094850\n",
      "6  0.278862 -0.977012  0.568057  0.137763\n"
     ]
    }
   ],
   "source": [
    "print('datafram:\\n', df)\n",
    "print('\\nhead:\\n', df.head(2))\n",
    "print('\\ntail:\\n', df.tail(2))"
   ]
  },
  {
   "cell_type": "markdown",
   "id": "75c673fb",
   "metadata": {},
   "source": [
    "### 2.2"
   ]
  },
  {
   "cell_type": "code",
   "execution_count": 33,
   "id": "a0a9f8ca",
   "metadata": {},
   "outputs": [
    {
     "name": "stdout",
     "output_type": "stream",
     "text": [
      "values:\n",
      " [[ 1.85995349 -0.13310698  0.52240083 -0.78813219]\n",
      " [-1.08880268 -0.24529423  0.77572337  0.1093023 ]\n",
      " [ 1.10957915 -0.75527389  1.38920371 -1.53755851]\n",
      " [-1.25012397 -1.83493748 -0.89027174  1.32441217]\n",
      " [-0.88460112 -0.28600883  0.75711459  2.09485034]\n",
      " [ 0.27886207 -0.97701181  0.56805687  0.13776284]]\n",
      "\n",
      "columns:\n",
      " Index(['A', 'B', 'C', 'D'], dtype='object')\n",
      "\n",
      "index:\n",
      " Int64Index([1, 2, 3, 4, 5, 6], dtype='int64')\n",
      "\n",
      "describe:\n",
      "               A         B         C         D\n",
      "count  6.000000  6.000000  6.000000  6.000000\n",
      "mean   0.004144 -0.705272  0.520371  0.223439\n",
      "std    1.288338  0.642996  0.757405  1.331096\n",
      "min   -1.250124 -1.834937 -0.890272 -1.537559\n",
      "25%   -1.037752 -0.921577  0.533815 -0.563774\n",
      "50%   -0.302870 -0.520641  0.662586  0.123533\n",
      "75%    0.901900 -0.255473  0.771071  1.027750\n",
      "max    1.859953 -0.133107  1.389204  2.094850\n"
     ]
    }
   ],
   "source": [
    "print('values:\\n', df.values) \n",
    "print('\\ncolumns:\\n', df.columns)\n",
    "print('\\nindex:\\n', df.index)\n",
    "print('\\ndescribe:\\n', df.describe())"
   ]
  },
  {
   "cell_type": "markdown",
   "id": "6160aa13",
   "metadata": {},
   "source": [
    "### 2.3"
   ]
  },
  {
   "cell_type": "code",
   "execution_count": 34,
   "id": "13333af2",
   "metadata": {},
   "outputs": [
    {
     "name": "stdout",
     "output_type": "stream",
     "text": [
      "          A         B         C         D\n",
      "1  1.859953 -0.133107  0.522401 -0.788132\n",
      "2 -1.088803 -0.245294  0.775723  0.109302\n",
      "5 -0.884601 -0.286009  0.757115  2.094850\n",
      "3  1.109579 -0.755274  1.389204 -1.537559\n",
      "6  0.278862 -0.977012  0.568057  0.137763\n",
      "4 -1.250124 -1.834937 -0.890272  1.324412\n"
     ]
    }
   ],
   "source": [
    "df = df.sort_values(['B', 'C'], ascending=[False, True])\n",
    "print(df)"
   ]
  },
  {
   "cell_type": "markdown",
   "id": "aab58b78",
   "metadata": {},
   "source": [
    "### 2.4"
   ]
  },
  {
   "cell_type": "code",
   "execution_count": 35,
   "id": "b3af979e",
   "metadata": {},
   "outputs": [
    {
     "name": "stdout",
     "output_type": "stream",
     "text": [
      "          A         B         C         D  F\n",
      "1  1.859953 -0.133107  0.522401 -0.788132  1\n",
      "2 -1.088803 -0.245294  0.775723  0.109302  2\n",
      "5 -0.884601 -0.286009  0.757115  2.094850  3\n",
      "3  1.109579 -0.755274  1.389204 -1.537559  4\n",
      "6  0.278862 -0.977012  0.568057  0.137763  5\n",
      "4 -1.250124 -1.834937 -0.890272  1.324412  6\n"
     ]
    }
   ],
   "source": [
    "df['F'] = pd.Series([1,2,3,4,5,6],index=df.index)\n",
    "print(df)"
   ]
  },
  {
   "cell_type": "markdown",
   "id": "c8241c40",
   "metadata": {},
   "source": [
    "### 2.5"
   ]
  },
  {
   "cell_type": "code",
   "execution_count": 36,
   "id": "7b8a4338",
   "metadata": {},
   "outputs": [
    {
     "name": "stdout",
     "output_type": "stream",
     "text": [
      "          A    F\n",
      "1  1.859953  1.0\n",
      "2 -1.088803  2.0\n",
      "3  1.109579  NaN\n"
     ]
    }
   ],
   "source": [
    "df.at[3, 'F'] = np.NaN\n",
    "df.at[5, 'F'] = np.NaN\n",
    "print(df.loc[[1,2,3],['A', 'F']])"
   ]
  },
  {
   "cell_type": "markdown",
   "id": "f9b097cd",
   "metadata": {},
   "source": [
    "### 2.6"
   ]
  },
  {
   "cell_type": "code",
   "execution_count": 37,
   "id": "9d79f4ef",
   "metadata": {},
   "outputs": [
    {
     "name": "stdout",
     "output_type": "stream",
     "text": [
      "\n",
      "df1:\n",
      "           A         B         C         D    F\n",
      "1  1.859953 -0.133107  0.522401 -0.788132  1.0\n",
      "2 -1.088803 -0.245294  0.775723  0.109302  2.0\n",
      "6  0.278862 -0.977012  0.568057  0.137763  5.0\n",
      "4 -1.250124 -1.834937 -0.890272  1.324412  6.0\n"
     ]
    }
   ],
   "source": [
    "df1 = df.dropna()\n",
    "print('\\ndf1:\\n', df1)"
   ]
  },
  {
   "cell_type": "markdown",
   "id": "452b9d92",
   "metadata": {},
   "source": [
    "### 2.7"
   ]
  },
  {
   "cell_type": "code",
   "execution_count": 38,
   "id": "ee441898",
   "metadata": {},
   "outputs": [
    {
     "name": "stdout",
     "output_type": "stream",
     "text": [
      "\n",
      "df1:\n",
      "           A         B         C         D    F\n",
      "1  1.859953 -0.133107  0.522401 -0.788132  1.0\n",
      "2 -1.088803 -0.245294  0.775723  0.109302  2.0\n",
      "5 -0.884601 -0.286009  0.757115  2.094850  3.5\n",
      "3  1.109579 -0.755274  1.389204 -1.537559  3.5\n",
      "6  0.278862 -0.977012  0.568057  0.137763  5.0\n",
      "4 -1.250124 -1.834937 -0.890272  1.324412  6.0\n"
     ]
    }
   ],
   "source": [
    "df2 = df.fillna(df1['F'].mean())\n",
    "print('\\ndf1:\\n', df2)"
   ]
  },
  {
   "cell_type": "markdown",
   "id": "fd5242c3",
   "metadata": {},
   "source": [
    "## matplotlib"
   ]
  },
  {
   "cell_type": "markdown",
   "id": "4df9684a",
   "metadata": {},
   "source": [
    "### 3.1"
   ]
  },
  {
   "cell_type": "code",
   "execution_count": 41,
   "id": "a9cd1100",
   "metadata": {
    "scrolled": true
   },
   "outputs": [
    {
     "data": {
      "image/png": "[encoded data removed]",
      "text/plain": [
       "<Figure size 432x288 with 1 Axes>"
      ]
     },
     "metadata": {
      "needs_background": "light"
     },
     "output_type": "display_data"
    },
    {
     "data": {
      "image/png": "[encoded data removed]",
      "text/plain": [
       "<Figure size 432x288 with 1 Axes>"
      ]
     },
     "metadata": {
      "needs_background": "light"
     },
     "output_type": "display_data"
    }
   ],
   "source": [
    "import matplotlib.pyplot as plt\n",
    "train_df = pd.read_csv(\"train.csv\").dropna()\n",
    "hist = train_df.hist('ApplicantIncome',bins=50)\n",
    "hist2 = train_df.boxplot('ApplicantIncome', 'Education')"
   ]
  },
  {
   "cell_type": "markdown",
   "id": "1cc1a5a8",
   "metadata": {},
   "source": [
    "### 3.2"
   ]
  },
  {
   "cell_type": "code",
   "execution_count": 43,
   "id": "e44bf8f5",
   "metadata": {},
   "outputs": [
    {
     "data": {
      "image/png": "[encoded data removed]",
      "text/plain": [
       "<Figure size 432x288 with 2 Axes>"
      ]
     },
     "metadata": {
      "needs_background": "light"
     },
     "output_type": "display_data"
    }
   ],
   "source": [
    "plt.subplot(1,2,1)\n",
    "plt.plot(train_df['Credit_History'],train_df['ApplicantIncome'])\n",
    "plt.subplot(1,2,2)\n",
    "train_df['Loan_Status'].replace(['Y', 'N'],[1, 0], inplace=True) \n",
    "plt.plot(train_df['Credit_History'],train_df['Loan_Status'])\n",
    "plt.show()"
   ]
  },
  {
   "cell_type": "markdown",
   "id": "02f58fa9",
   "metadata": {},
   "source": [
    "## Numpy & Scipy"
   ]
  },
  {
   "cell_type": "markdown",
   "id": "602057ea",
   "metadata": {},
   "source": [
    "### 4.1"
   ]
  },
  {
   "cell_type": "code",
   "execution_count": 45,
   "id": "5b7bc576",
   "metadata": {},
   "outputs": [
    {
     "name": "stdout",
     "output_type": "stream",
     "text": [
      "[[0 1]\n",
      " [2 3]\n",
      " [4 5]] \n",
      "\n",
      "[[0 1 2]\n",
      " [3 4 5]\n",
      " [6 7 8]] \n",
      "\n",
      "[[0 1 0 1 2]\n",
      " [2 3 3 4 5]\n",
      " [4 5 6 7 8]] \n",
      "\n",
      "[0 1 0 1 2 2 3 3 4 5 4 5 6 7 8] \n",
      "\n",
      "14\n"
     ]
    }
   ],
   "source": [
    "a = np.arange(6) \n",
    "b = np.arange(9)\n",
    "a = a.reshape(3,2) \n",
    "b = b.reshape(3,3) \n",
    "print(a,'\\n') \n",
    "print(b,'\\n')\n",
    "c = np.column_stack((a,b)) \n",
    "print(c,'\\n')\n",
    "d = np.ravel(c) \n",
    "print(d,'\\n')\n",
    "print(np.argmax(d))"
   ]
  },
  {
   "cell_type": "markdown",
   "id": "c88183a6",
   "metadata": {},
   "source": [
    "### 4.2"
   ]
  },
  {
   "cell_type": "code",
   "execution_count": 47,
   "id": "ac2a195b",
   "metadata": {},
   "outputs": [
    {
     "name": "stdout",
     "output_type": "stream",
     "text": [
      "[[3 1 2]\n",
      " [1 5 6]\n",
      " [4 9 5]] \n",
      "\n",
      "[[ 0.32222222 -0.21111111  0.12222222]\n",
      " [-0.14444444 -0.07777778  0.25555556]\n",
      " [ 0.04444444  0.17777778 -0.15555556]] \n",
      "\n",
      "-90.0 \n",
      "\n"
     ]
    }
   ],
   "source": [
    "A = np.mat([[3,1,4],[1,5,9],[2,6,5]])\n",
    "b = np.mat( [2,4,-1])\n",
    "tran_A = A.T \n",
    "print(tran_A,'\\n')\n",
    "invs_A = np.linalg.inv(A) \n",
    "print(invs_A,'\\n')\n",
    "det_A = np.linalg.det(A) \n",
    "print(det_A,'\\n')"
   ]
  },
  {
   "cell_type": "markdown",
   "id": "837f573d",
   "metadata": {},
   "source": [
    "### 4.3"
   ]
  },
  {
   "cell_type": "code",
   "execution_count": 50,
   "id": "7c5fe0a9",
   "metadata": {},
   "outputs": [
    {
     "name": "stderr",
     "output_type": "stream",
     "text": [
      "/Users/alim/opt/anaconda3/lib/python3.9/site-packages/matplotlib/cbook/__init__.py:1298: ComplexWarning: Casting complex values to real discards the imaginary part\n",
      "  return np.asarray(x, float)\n"
     ]
    },
    {
     "data": {
      "image/png": "[encoded data removed]",
      "text/plain": [
       "<Figure size 1440x720 with 2 Axes>"
      ]
     },
     "metadata": {
      "needs_background": "light"
     },
     "output_type": "display_data"
    }
   ],
   "source": [
    "t = np.random.uniform(0,1,1000)\n",
    "t = (t * 20 * np.pi) - 10 * np.pi \n",
    "t.sort()\n",
    "y = np.sinc(t)\n",
    "f = np.fft.fftfreq(t.shape[-1])\n",
    "z = np.fft.fft(y)\n",
    "plt.figure(figsize=(20,10))\n",
    "plt.subplot(121)\n",
    "plt.plot(t,y)\n",
    "plt.title('Sinc(t)') \n",
    "plt.xlabel('t') \n",
    "plt.ylabel('F(t)')\n",
    "plt.subplot(122) \n",
    "plt.plot(f,z)\n",
    "plt.title('Fourier{F(t)}')\n",
    "plt.xlabel('w') \n",
    "plt.ylabel('FFT(F)') \n",
    "plt.show()"
   ]
  }
 ],
 "metadata": {
  "kernelspec": {
   "display_name": "Python 3 (ipykernel)",
   "language": "python",
   "name": "python3"
  },
  "language_info": {
   "codemirror_mode": {
    "name": "ipython",
    "version": 3
   },
   "file_extension": ".py",
   "mimetype": "text/x-python",
   "name": "python",
   "nbconvert_exporter": "python",
   "pygments_lexer": "ipython3",
   "version": "3.9.12"
  }
 },
 "nbformat": 4,
 "nbformat_minor": 5
}
