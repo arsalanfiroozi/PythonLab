{
 "cells": [
  {
   "cell_type": "markdown",
   "id": "14fc56bd",
   "metadata": {},
   "source": [
    "# HW5"
   ]
  },
  {
   "cell_type": "markdown",
   "id": "6443fc6b",
   "metadata": {},
   "source": [
    "## Question 1"
   ]
  },
  {
   "cell_type": "markdown",
   "id": "8b2b9ef2",
   "metadata": {},
   "source": [
    "### Methods"
   ]
  },
  {
   "cell_type": "code",
   "execution_count": 1,
   "id": "57c48312",
   "metadata": {},
   "outputs": [],
   "source": [
    "def find_str(string, i , j , i_previous , j_previous , table):\n",
    "    char = string[0]\n",
    "    n_row = len(table)\n",
    "    n_col = len(table[0][0])\n",
    "    if i+1 < n_row and i+1 != i_previous:\n",
    "        if char == table[i+1][0][j]:\n",
    "            if len(string) == 1:\n",
    "                return True\n",
    "            else:\n",
    "                return find_str(string[1:], i+1 , j , i , j , table)\n",
    "    if j+1 < n_col and j+1 != j_previous:\n",
    "        if char == table[i][0][j+1]:\n",
    "            if len(string) == 1:\n",
    "                return True\n",
    "            else:\n",
    "                return find_str(string[1:], i , j+1 , i , j , table)\n",
    "    if i-1 >= 0 and i-1 != i_previous:\n",
    "        if char == table[i-1][0][j]:\n",
    "            if len(string) == 1:\n",
    "                return True\n",
    "            else:\n",
    "                return find_str(string[1:], i-1 , j , i , j , table)\n",
    "    if j-1 >= 0 and j-1 != j_previous:\n",
    "        if char == table[i][0][j-1]:\n",
    "            if len(string) == 1:\n",
    "                return True\n",
    "            else:\n",
    "                return find_str(string[1:], i , j-1 , i , j , table)\n",
    "    return False\n",
    "\n",
    "def str_check(table, string):\n",
    "    n_row = len(table)\n",
    "    n_col = len(table[0][0])\n",
    "    flag = False\n",
    "    for i in range(n_row):\n",
    "        for j in range(n_col):\n",
    "            if string[0] == table[i][0][j]:\n",
    "                if find_str(string[1:], i , j , i , j , table):\n",
    "                    flag = True\n",
    "    return flag"
   ]
  },
  {
   "cell_type": "markdown",
   "id": "55f2b1cf",
   "metadata": {},
   "source": [
    "### Test"
   ]
  },
  {
   "cell_type": "code",
   "execution_count": 2,
   "id": "c810951b",
   "metadata": {},
   "outputs": [
    {
     "name": "stdout",
     "output_type": "stream",
     "text": [
      "True\n",
      "True\n",
      "False\n"
     ]
    }
   ],
   "source": [
    "table = [['ABCE'], \n",
    "         ['SFCS'], \n",
    "         ['ADEE']]\n",
    "\n",
    "print(str_check(table=table, string='ABCCED'))\n",
    "print(str_check(table=table, string='SEE'))\n",
    "print(str_check(table=table, string='ABCB'))"
   ]
  },
  {
   "cell_type": "markdown",
   "id": "0e488aa4",
   "metadata": {},
   "source": [
    "## Question 2"
   ]
  },
  {
   "cell_type": "markdown",
   "id": "89dc61d0",
   "metadata": {},
   "source": [
    "### Recursive Programming"
   ]
  },
  {
   "cell_type": "code",
   "execution_count": 3,
   "id": "2d2246d7",
   "metadata": {},
   "outputs": [],
   "source": [
    "def lev_recursive(s1, s2):\n",
    "    if (len(s1) * len(s2)) == 0:\n",
    "        return max(len(s1), len(s2))\n",
    "    elif s1[0] == s2[0]:\n",
    "        return lev_recursive(s1[1:], s2[1:])\n",
    "    else:\n",
    "        return 1 + min(lev_recursive(s1[1:], s2),\n",
    "                       lev_recursive(s1,     s2[1:]),\n",
    "                       lev_recursive(s1[1:], s2[1:]))"
   ]
  },
  {
   "cell_type": "code",
   "execution_count": 4,
   "id": "b9bb47dc",
   "metadata": {},
   "outputs": [
    {
     "name": "stdout",
     "output_type": "stream",
     "text": [
      "First string = investment\n",
      "Second string = invention\n",
      "Levenshtein distance = 4\n"
     ]
    }
   ],
   "source": [
    "s1 = input(\"First string = \")\n",
    "s2 = input(\"Second string = \")\n",
    "\n",
    "print(f\"Levenshtein distance = {lev_recursive(s1, s2)}\")"
   ]
  },
  {
   "cell_type": "markdown",
   "id": "a1a0360a",
   "metadata": {},
   "source": [
    "### Dynamic Programming"
   ]
  },
  {
   "cell_type": "code",
   "execution_count": 5,
   "id": "48875f38",
   "metadata": {},
   "outputs": [],
   "source": [
    "def lev_dynamic(s1, s2):\n",
    "    l1 = len(s1)\n",
    "    l2 = len(s2)\n",
    "    d = [[None for i in range(l2+1)] for i in range(l1+1)]\n",
    "    for i in range(l1+1):\n",
    "        for j in range(l2+1):\n",
    "            if i * j == 0 :\n",
    "                d[i][j] = max(i, j)\n",
    "            else:\n",
    "                if s1[i-1] == s2[j-1]:\n",
    "                    sub_cost = 0\n",
    "                else:\n",
    "                    sub_cost = 1\n",
    "                d[i][j] = min (1+d[i-1][j], 1+d[i][j-1], sub_cost+d[i-1][j-1])\n",
    "    return d[l1][l2]"
   ]
  },
  {
   "cell_type": "code",
   "execution_count": 6,
   "id": "27cb4c10",
   "metadata": {},
   "outputs": [
    {
     "name": "stdout",
     "output_type": "stream",
     "text": [
      "First string = investment\n",
      "Second string = invention\n",
      "Levenshtein distance = 4\n"
     ]
    }
   ],
   "source": [
    "s1 = input(\"First string = \")\n",
    "s2 = input(\"Second string = \")\n",
    "\n",
    "print(f\"Levenshtein distance = {lev_dynamic(s1, s2)}\")"
   ]
  },
  {
   "cell_type": "markdown",
   "id": "d9f472d8",
   "metadata": {},
   "source": [
    "## Question 3"
   ]
  },
  {
   "cell_type": "markdown",
   "id": "57d334fb",
   "metadata": {},
   "source": [
    "### Method"
   ]
  },
  {
   "cell_type": "code",
   "execution_count": 7,
   "id": "24f7bc8a",
   "metadata": {},
   "outputs": [],
   "source": [
    "def collatz(col):\n",
    "    last = col[-1]\n",
    "    if last == 1:\n",
    "        return col\n",
    "    if last % 2 == 0:\n",
    "        col.append(last // 2)\n",
    "        return collatz(col)\n",
    "    col.append(3 * last + 1)\n",
    "    return collatz(col)"
   ]
  },
  {
   "cell_type": "markdown",
   "id": "0ecd0299",
   "metadata": {},
   "source": [
    "### Test"
   ]
  },
  {
   "cell_type": "code",
   "execution_count": 8,
   "id": "acd4a1fa",
   "metadata": {},
   "outputs": [
    {
     "name": "stdout",
     "output_type": "stream",
     "text": [
      "Number = 100\n",
      "Collatz array = [100, 50, 25, 76, 38, 19, 58, 29, 88, 44, 22, 11, 34, 17, 52, 26, 13, 40, 20, 10, 5, 16, 8, 4, 2, 1]\n"
     ]
    }
   ],
   "source": [
    "number = input(\"Number = \")\n",
    "print(f\"Collatz array = {collatz([int(number)])}\")"
   ]
  },
  {
   "cell_type": "markdown",
   "id": "128298cc",
   "metadata": {},
   "source": [
    "### Find Maximum Collatz Length for Integers Less Than 2000"
   ]
  },
  {
   "cell_type": "code",
   "execution_count": 9,
   "id": "32fd09cf",
   "metadata": {
    "scrolled": false
   },
   "outputs": [
    {
     "name": "stdout",
     "output_type": "stream",
     "text": [
      "The answer = 1161\n",
      "Collats length = 182\n",
      "Collats array = [1161, 3484, 1742, 871, 2614, 1307, 3922, 1961, 5884, 2942, 1471, 4414, 2207, 6622, 3311, 9934, 4967, 14902, 7451, 22354, 11177, 33532, 16766, 8383, 25150, 12575, 37726, 18863, 56590, 28295, 84886, 42443, 127330, 63665, 190996, 95498, 47749, 143248, 71624, 35812, 17906, 8953, 26860, 13430, 6715, 20146, 10073, 30220, 15110, 7555, 22666, 11333, 34000, 17000, 8500, 4250, 2125, 6376, 3188, 1594, 797, 2392, 1196, 598, 299, 898, 449, 1348, 674, 337, 1012, 506, 253, 760, 380, 190, 95, 286, 143, 430, 215, 646, 323, 970, 485, 1456, 728, 364, 182, 91, 274, 137, 412, 206, 103, 310, 155, 466, 233, 700, 350, 175, 526, 263, 790, 395, 1186, 593, 1780, 890, 445, 1336, 668, 334, 167, 502, 251, 754, 377, 1132, 566, 283, 850, 425, 1276, 638, 319, 958, 479, 1438, 719, 2158, 1079, 3238, 1619, 4858, 2429, 7288, 3644, 1822, 911, 2734, 1367, 4102, 2051, 6154, 3077, 9232, 4616, 2308, 1154, 577, 1732, 866, 433, 1300, 650, 325, 976, 488, 244, 122, 61, 184, 92, 46, 23, 70, 35, 106, 53, 160, 80, 40, 20, 10, 5, 16, 8, 4, 2, 1]\n"
     ]
    }
   ],
   "source": [
    "col_max = 0\n",
    "col_max_len = 0\n",
    "for i in range(1,2001):\n",
    "    current_col = collatz([i])\n",
    "    if len(current_col)>col_max_len:\n",
    "        col_max = i\n",
    "        col_max_len = len(current_col)\n",
    "\n",
    "print(f'The answer = {col_max}')\n",
    "print(f'Collats length = {col_max_len}')\n",
    "print(f'Collats array = {collatz([col_max])}')"
   ]
  },
  {
   "cell_type": "markdown",
   "id": "9cc6addd",
   "metadata": {},
   "source": [
    "## Question 4"
   ]
  },
  {
   "cell_type": "code",
   "execution_count": 10,
   "id": "eb034665",
   "metadata": {},
   "outputs": [],
   "source": [
    "def fuel_recursive(current_fuel, gas_station, fuel_consumption_rate, capacity, d, p):\n",
    "    if gas_station < len(p)-1:\n",
    "        if current_fuel < (d[gas_station+1]-d[gas_station])*fuel_consumption_rate:\n",
    "            return (capacity-current_fuel)*p[gas_station] + fuel_recursive(capacity-(d[gas_station+1]-d[gas_station])*fuel_consumption_rate, \n",
    "                                     gas_station+1, fuel_consumption_rate, capacity, d, p)\n",
    "        else:\n",
    "            refill = (capacity-current_fuel)*p[gas_station] + fuel_recursive(capacity-(d[gas_station+1]-d[gas_station])*fuel_consumption_rate, \n",
    "                                     gas_station+1, fuel_consumption_rate, capacity, d, p)\n",
    "            skip = fuel_recursive(current_fuel-(d[gas_station+1]-d[gas_station])*fuel_consumption_rate, \n",
    "                                     gas_station+1, fuel_consumption_rate, capacity, d, p)\n",
    "            return min([refill, skip])\n",
    "    else:\n",
    "        if current_fuel < (d[gas_station+1]-d[gas_station])*fuel_consumption_rate:\n",
    "            return (capacity-current_fuel)*p[gas_station]\n",
    "        else:\n",
    "            return 0\n",
    "    \n",
    "def cost_optimizer(c, f, d, p):\n",
    "    n = len(p)\n",
    "    if d[0] != 0:\n",
    "        return 'First gas station must be at 0'\n",
    "    for i in range(n):\n",
    "        if (d[i+1]-d[i])*f > c:\n",
    "            return 'Impossible!'\n",
    "        if (d[i+1]-d[i]) <= 0:\n",
    "            return 'Wrong distance data!'\n",
    "    for price in p:\n",
    "        if price < 0:\n",
    "            return 'Fuel prices must be equal or greater than 0'\n",
    "    return fuel_recursive(0, 0, f, c, d, p)"
   ]
  },
  {
   "cell_type": "code",
   "execution_count": 11,
   "id": "8fa16cd0",
   "metadata": {},
   "outputs": [
    {
     "name": "stdout",
     "output_type": "stream",
     "text": [
      "69000.0\n"
     ]
    }
   ],
   "source": [
    "C = 50\n",
    "F = 0.1\n",
    "D = [0,300,450,700,900,1100,1200]\n",
    "P = [0,1100,1500,900,2100,1300]\n",
    "\n",
    "print(cost_optimizer(C, F, D, P))"
   ]
  },
  {
   "cell_type": "markdown",
   "id": "c6076e6c",
   "metadata": {},
   "source": [
    "## Question 5"
   ]
  },
  {
   "cell_type": "code",
   "execution_count": 12,
   "id": "105660ab",
   "metadata": {},
   "outputs": [],
   "source": [
    "nearest5 = lambda x : 5*round(x/5)"
   ]
  },
  {
   "cell_type": "code",
   "execution_count": 13,
   "id": "d83bc61c",
   "metadata": {},
   "outputs": [
    {
     "name": "stdout",
     "output_type": "stream",
     "text": [
      "25\n"
     ]
    }
   ],
   "source": [
    "print(nearest5(23))"
   ]
  },
  {
   "cell_type": "markdown",
   "id": "e7d7df67",
   "metadata": {},
   "source": [
    "## Question 6"
   ]
  },
  {
   "cell_type": "code",
   "execution_count": 14,
   "id": "e3d7e3da",
   "metadata": {},
   "outputs": [],
   "source": [
    "names = lambda people : [person[0] + ' ' + person[1] for person in people]"
   ]
  },
  {
   "cell_type": "code",
   "execution_count": 15,
   "id": "d09deea4",
   "metadata": {},
   "outputs": [
    {
     "name": "stdout",
     "output_type": "stream",
     "text": [
      "['Mohammad Moghaddam', 'Arsalan Firoozi', 'MohammadReza AliMohammadi']\n"
     ]
    }
   ],
   "source": [
    "people = [['Mohammad', 'Moghaddam'],\n",
    "          ['Arsalan', 'Firoozi'],\n",
    "          ['MohammadReza', 'AliMohammadi']]\n",
    "\n",
    "print(names(people))"
   ]
  },
  {
   "cell_type": "markdown",
   "id": "d012c26a",
   "metadata": {},
   "source": [
    "## Question 7"
   ]
  },
  {
   "cell_type": "code",
   "execution_count": 16,
   "id": "ebcf8be4",
   "metadata": {
    "scrolled": false
   },
   "outputs": [
    {
     "name": "stdout",
     "output_type": "stream",
     "text": [
      "Writing Q7.py\n"
     ]
    }
   ],
   "source": [
    "%%writefile Q7.py\n",
    "import numpy as np\n",
    "def mySqrt(x):\n",
    "    return np.sqrt(x)"
   ]
  },
  {
   "cell_type": "code",
   "execution_count": 17,
   "id": "502cc044",
   "metadata": {},
   "outputs": [
    {
     "name": "stdout",
     "output_type": "stream",
     "text": [
      "5.0\n"
     ]
    }
   ],
   "source": [
    "from Q7 import mySqrt as sqrt\n",
    "print(sqrt(25))"
   ]
  },
  {
   "cell_type": "markdown",
   "id": "619da12e",
   "metadata": {},
   "source": [
    "## Question 8"
   ]
  },
  {
   "cell_type": "code",
   "execution_count": 18,
   "id": "f0d4309a",
   "metadata": {},
   "outputs": [],
   "source": [
    "with open('input_file.txt', 'r') as input_file:\n",
    "    temp = input_file.readlines()\n",
    "    temp = [item.split() for item in temp]\n",
    "    temp = [item[1] + ' ' + item[0] + '\\n' for item in temp]\n",
    "    out = ''\n",
    "    for item in temp:\n",
    "        out = out + item\n",
    "with open('output_file.txt', 'w') as output_file:\n",
    "    output_file.write(out)"
   ]
  }
 ],
 "metadata": {
  "kernelspec": {
   "display_name": "Python 3 (ipykernel)",
   "language": "python",
   "name": "python3"
  },
  "language_info": {
   "codemirror_mode": {
    "name": "ipython",
    "version": 3
   },
   "file_extension": ".py",
   "mimetype": "text/x-python",
   "name": "python",
   "nbconvert_exporter": "python",
   "pygments_lexer": "ipython3",
   "version": "3.9.13"
  }
 },
 "nbformat": 4,
 "nbformat_minor": 5
}
